{
 "cells": [
  {
   "cell_type": "code",
   "execution_count": 2,
   "metadata": {
    "collapsed": true
   },
   "outputs": [],
   "source": [
    "import pandas as pd\n",
    "import numpy as np\n",
    "import matplotlib.pyplot as plt\n",
    "import seaborn as sns"
   ]
  },
  {
   "cell_type": "code",
   "execution_count": 3,
   "metadata": {
    "collapsed": false
   },
   "outputs": [],
   "source": [
    "#Lecture des fichiers\n",
    "trainInitial = pd.read_csv(\"file:///Users/lionel.capo-chichi/Desktop/Eolienne/input_training.csv\",sep=';')\n",
    "test = pd.read_csv(\"file:///Users/lionel.capo-chichi/Desktop/Eolienne/input_testing.csv\",sep=';')\n",
    "output = pd.read_csv(\"file:///Users/lionel.capo-chichi/Desktop/Eolienne/45.csv\",sep=';')"
   ]
  },
  {
   "cell_type": "code",
   "execution_count": 4,
   "metadata": {
    "collapsed": true
   },
   "outputs": [],
   "source": [
    "train = pd.merge(trainInitial,output,on='ID')"
   ]
  },
  {
   "cell_type": "code",
   "execution_count": 5,
   "metadata": {
    "collapsed": true
   },
   "outputs": [],
   "source": [
    "train['MAC_CODE'] = train['MAC_CODE'].replace('WT3',3)\n",
    "train['MAC_CODE'] = train['MAC_CODE'].replace('WT1',1)\n",
    "train['MAC_CODE'] = train['MAC_CODE'].replace('WT2',2)\n",
    "train['MAC_CODE'] = train['MAC_CODE'].replace('WT4',4)\n",
    "test['MAC_CODE'] = test['MAC_CODE'].replace('WT3',3)\n",
    "test['MAC_CODE'] = test['MAC_CODE'].replace('WT1',1)\n",
    "test['MAC_CODE'] = test['MAC_CODE'].replace('WT2',2)\n",
    "test['MAC_CODE'] = test['MAC_CODE'].replace('WT4',4)"
   ]
  },
  {
   "cell_type": "code",
   "execution_count": 6,
   "metadata": {
    "collapsed": false,
    "scrolled": true
   },
   "outputs": [
    {
     "data": {
      "text/plain": [
       "Index(['ID', 'MAC_CODE', 'Date_time', 'Pitch_angle', 'Pitch_angle_min',\n",
       "       'Pitch_angle_max', 'Pitch_angle_std', 'Hub_temperature',\n",
       "       'Hub_temperature_min', 'Hub_temperature_max', 'Hub_temperature_std',\n",
       "       'Generator_converter_speed', 'Generator_converter_speed_min',\n",
       "       'Generator_converter_speed_max', 'Generator_converter_speed_std',\n",
       "       'Generator_speed', 'Generator_speed_min', 'Generator_speed_max',\n",
       "       'Generator_speed_std', 'Generator_bearing_1_temperature',\n",
       "       'Generator_bearing_1_temperature_min',\n",
       "       'Generator_bearing_1_temperature_max',\n",
       "       'Generator_bearing_1_temperature_std',\n",
       "       'Generator_bearing_2_temperature',\n",
       "       'Generator_bearing_2_temperature_min',\n",
       "       'Generator_bearing_2_temperature_max',\n",
       "       'Generator_bearing_2_temperature_std', 'Generator_stator_temperature',\n",
       "       'Generator_stator_temperature_min', 'Generator_stator_temperature_max',\n",
       "       'Generator_stator_temperature_std', 'Gearbox_bearing_1_temperature',\n",
       "       'Gearbox_bearing_1_temperature_min',\n",
       "       'Gearbox_bearing_1_temperature_max',\n",
       "       'Gearbox_bearing_1_temperature_std', 'Gearbox_bearing_2_temperature',\n",
       "       'Gearbox_bearing_2_temperature_min',\n",
       "       'Gearbox_bearing_2_temperature_max',\n",
       "       'Gearbox_bearing_2_temperature_std', 'Gearbox_inlet_temperature',\n",
       "       'Gearbox_inlet_temperature_min', 'Gearbox_inlet_temperature_max',\n",
       "       'Gearbox_inlet_temperature_std', 'Gearbox_oil_sump_temperature',\n",
       "       'Gearbox_oil_sump_temperature_min', 'Gearbox_oil_sump_temperature_max',\n",
       "       'Gearbox_oil_sump_temperature_std', 'Nacelle_angle',\n",
       "       'Nacelle_angle_min', 'Nacelle_angle_max', 'Nacelle_angle_std',\n",
       "       'Nacelle_temperature', 'Nacelle_temperature_min',\n",
       "       'Nacelle_temperature_max', 'Nacelle_temperature_std',\n",
       "       'Absolute_wind_direction', 'Outdoor_temperature',\n",
       "       'Outdoor_temperature_min', 'Outdoor_temperature_max',\n",
       "       'Outdoor_temperature_std', 'Grid_frequency', 'Grid_frequency_min',\n",
       "       'Grid_frequency_max', 'Grid_frequency_std', 'Grid_voltage',\n",
       "       'Grid_voltage_min', 'Grid_voltage_max', 'Grid_voltage_std',\n",
       "       'Rotor_speed', 'Rotor_speed_min', 'Rotor_speed_max', 'Rotor_speed_std',\n",
       "       'Rotor_bearing_temperature', 'Rotor_bearing_temperature_min',\n",
       "       'Rotor_bearing_temperature_max', 'Rotor_bearing_temperature_std',\n",
       "       'Absolute_wind_direction_c', 'Nacelle_angle_c', 'TARGET'],\n",
       "      dtype='object')"
      ]
     },
     "execution_count": 6,
     "metadata": {},
     "output_type": "execute_result"
    }
   ],
   "source": [
    "train.columns"
   ]
  },
  {
   "cell_type": "code",
   "execution_count": 7,
   "metadata": {
    "collapsed": true
   },
   "outputs": [],
   "source": [
    "y = train['TARGET']"
   ]
  },
  {
   "cell_type": "code",
   "execution_count": 8,
   "metadata": {
    "collapsed": true
   },
   "outputs": [],
   "source": [
    "train = train.drop(['TARGET','Date_time'],axis=1)\n",
    "data = pd.concat([train,test],axis=0)\n"
   ]
  },
  {
   "cell_type": "code",
   "execution_count": null,
   "metadata": {
    "collapsed": false,
    "scrolled": true
   },
   "outputs": [],
   "source": []
  },
  {
   "cell_type": "code",
   "execution_count": null,
   "metadata": {
    "collapsed": true
   },
   "outputs": [],
   "source": []
  },
  {
   "cell_type": "code",
   "execution_count": 9,
   "metadata": {
    "collapsed": false
   },
   "outputs": [],
   "source": [
    "listColumns = []\n",
    "for v in data.columns:\n",
    "    if v not in ['ID','MAC_CODE']:\n",
    "        listColumns.append(v)\n",
    "        \n",
    "data1 = data.copy()\n",
    "data1['ID']  = data1['ID'] -1\n",
    "\n",
    "for col in listColumns :\n",
    "    data1.rename(columns={col: col +('_lag_1')},inplace=True)\n",
    "dataMerge1 =pd.merge(data,data1,on=['ID','MAC_CODE'],how='left') \n",
    "\n",
    "data2 = data.copy()\n",
    "data2['ID']  = data2['ID'] -2\n",
    "\n",
    "for col in listColumns :\n",
    "    data2.rename(columns={col: col +('_lag_2')},inplace=True)\n",
    "dataMerge2 =pd.merge(dataMerge1,data2,on=['ID','MAC_CODE'],how='left') "
   ]
  },
  {
   "cell_type": "code",
   "execution_count": 10,
   "metadata": {
    "collapsed": false
   },
   "outputs": [],
   "source": [
    "dataMerge2 = dataMerge2.fillna(dataMerge2.mean())\n"
   ]
  },
  {
   "cell_type": "code",
   "execution_count": 11,
   "metadata": {
    "collapsed": false
   },
   "outputs": [],
   "source": [
    "dataMerge2['Jour'] = dataMerge2['ID']%(6*24)\n"
   ]
  },
  {
   "cell_type": "code",
   "execution_count": 12,
   "metadata": {
    "collapsed": false
   },
   "outputs": [],
   "source": [
    "X_train = dataMerge2.iloc[:308693]\n",
    "X_val = dataMerge2.iloc[308693:463039]\n",
    "X_test_ctx = dataMerge2.iloc[463039:617386]\n",
    "y_train = y[:308693]\n",
    "y_val = y[308693:463039]\n",
    "y_test_ctx = y[463039:617386]"
   ]
  },
  {
   "cell_type": "code",
   "execution_count": 13,
   "metadata": {
    "collapsed": false
   },
   "outputs": [
    {
     "data": {
      "text/plain": [
       "12.859720172802591"
      ]
     },
     "execution_count": 13,
     "metadata": {},
     "output_type": "execute_result"
    }
   ],
   "source": [
    "from lightgbm import LGBMRegressor\n",
    "lgb = LGBMRegressor()\n",
    "\n",
    "lgb.fit(X_train, y_train)\n",
    "predictionslgb = lgb.predict(X_val)\n",
    "from sklearn.metrics import mean_absolute_error\n",
    "mean_absolute_error(y_val, predictionslgb)\n",
    "#Mieux avec la semaine et l'olympiade"
   ]
  },
  {
   "cell_type": "code",
   "execution_count": 15,
   "metadata": {
    "collapsed": false,
    "scrolled": true
   },
   "outputs": [
    {
     "data": {
      "text/plain": [
       "array([905.07921522, 782.55932145, 985.0796851 , ...,  -2.19627266,\n",
       "        -2.19627266,  -2.19627266])"
      ]
     },
     "execution_count": 15,
     "metadata": {},
     "output_type": "execute_result"
    }
   ],
   "source": [
    "predictionslgb"
   ]
  },
  {
   "cell_type": "code",
   "execution_count": null,
   "metadata": {
    "collapsed": true
   },
   "outputs": [],
   "source": []
  },
  {
   "cell_type": "code",
   "execution_count": 25,
   "metadata": {
    "collapsed": false,
    "scrolled": true
   },
   "outputs": [
    {
     "data": {
      "text/plain": [
       "91.58995740708693"
      ]
     },
     "execution_count": 25,
     "metadata": {},
     "output_type": "execute_result"
    }
   ],
   "source": [
    "from sklearn import linear_model\n",
    "lr = linear_model.LinearRegression()\n",
    "lr.fit(X_train, y_train)\n",
    "predictionslr = lr.predict(X_val)\n",
    "from sklearn.metrics import mean_absolute_error\n",
    "mean_absolute_error(y_val, predictionslr)\n",
    "#Mieux avec la semaine et l'olympiade"
   ]
  },
  {
   "cell_type": "code",
   "execution_count": 26,
   "metadata": {
    "collapsed": false,
    "scrolled": true
   },
   "outputs": [],
   "source": [
    "test_preds_lgb = lgb.predict(X_test_ctx)\n",
    "test_preds_lr = lr.predict(X_test_ctx)"
   ]
  },
  {
   "cell_type": "code",
   "execution_count": 27,
   "metadata": {
    "collapsed": false
   },
   "outputs": [],
   "source": [
    "stacked_pred = np.column_stack((predictionslgb,predictionslr))\n",
    "stacked_test_pred = np.column_stack((test_preds_lgb,test_preds_lr))"
   ]
  },
  {
   "cell_type": "code",
   "execution_count": 28,
   "metadata": {
    "collapsed": false
   },
   "outputs": [
    {
     "data": {
      "text/plain": [
       "LinearRegression(copy_X=True, fit_intercept=True, n_jobs=1, normalize=False)"
      ]
     },
     "execution_count": 28,
     "metadata": {},
     "output_type": "execute_result"
    }
   ],
   "source": [
    "meta_model = linear_model.LinearRegression()\n",
    "meta_model.fit(stacked_pred,y_val)"
   ]
  },
  {
   "cell_type": "code",
   "execution_count": 29,
   "metadata": {
    "collapsed": true
   },
   "outputs": [],
   "source": [
    "final_predictions = meta_model.predict(stacked_test_pred)"
   ]
  },
  {
   "cell_type": "code",
   "execution_count": 30,
   "metadata": {
    "collapsed": false
   },
   "outputs": [
    {
     "data": {
      "text/plain": [
       "17.14028742171079"
      ]
     },
     "execution_count": 30,
     "metadata": {},
     "output_type": "execute_result"
    }
   ],
   "source": [
    "from sklearn.metrics import mean_absolute_error\n",
    "mean_absolute_error(y_test_ctx, final_predictions)"
   ]
  },
  {
   "cell_type": "code",
   "execution_count": 31,
   "metadata": {
    "collapsed": false
   },
   "outputs": [],
   "source": [
    "X_train = dataMerge2.iloc[:463039]\n",
    "X_val = dataMerge2.iloc[463039:617386]\n",
    "X_test = dataMerge2.iloc[617386:]\n",
    "y_train = y[:463039]\n",
    "y_val = y[463039:617386]\n",
    "y_test = y[617386:]"
   ]
  },
  {
   "cell_type": "code",
   "execution_count": 32,
   "metadata": {
    "collapsed": false
   },
   "outputs": [
    {
     "data": {
      "text/plain": [
       "17.148315855853397"
      ]
     },
     "execution_count": 32,
     "metadata": {},
     "output_type": "execute_result"
    }
   ],
   "source": [
    "from lightgbm import LGBMRegressor\n",
    "lgb = LGBMRegressor()\n",
    "\n",
    "lgb.fit(X_train, y_train)\n",
    "predictionslgb = lgb.predict(X_val)\n",
    "from sklearn.metrics import mean_absolute_error\n",
    "mean_absolute_error(y_val, predictionslgb)\n",
    "#Mieux avec la semaine et l'olympiade"
   ]
  },
  {
   "cell_type": "code",
   "execution_count": 33,
   "metadata": {
    "collapsed": false
   },
   "outputs": [
    {
     "data": {
      "text/plain": [
       "104.83528837241549"
      ]
     },
     "execution_count": 33,
     "metadata": {},
     "output_type": "execute_result"
    }
   ],
   "source": [
    "from sklearn import linear_model\n",
    "lr = linear_model.LinearRegression()\n",
    "lr.fit(X_train, y_train)\n",
    "predictionslr = lr.predict(X_val)\n",
    "from sklearn.metrics import mean_absolute_error\n",
    "mean_absolute_error(y_val, predictionslr)\n",
    "#Mieux avec la semaine et l'olympiade"
   ]
  },
  {
   "cell_type": "code",
   "execution_count": 36,
   "metadata": {
    "collapsed": true
   },
   "outputs": [],
   "source": [
    "test_preds_lgb = lgb.predict(X_test)\n",
    "test_preds_lr = lr.predict(X_test)\n",
    "stacked_pred = np.column_stack((predictionslgb,predictionslr))\n",
    "stacked_test_pred = np.column_stack((test_preds_lgb,test_preds_lr))\n",
    "meta_model = linear_model.LinearRegression()\n",
    "meta_model.fit(stacked_pred,y_val)\n",
    "final_predictions = meta_model.predict(stacked_test_pred)"
   ]
  },
  {
   "cell_type": "code",
   "execution_count": 37,
   "metadata": {
    "collapsed": false
   },
   "outputs": [],
   "source": [
    "#test = test.reset_index()\n",
    "sub_df = pd.DataFrame()\n",
    "sub_df['ID'] = test['ID']\n",
    "sub_df[\"TARGET\"] = final_predictions\n",
    "sub_df.to_csv(\"stackinglgblr.csv\", index=False)"
   ]
  },
  {
   "cell_type": "code",
   "execution_count": null,
   "metadata": {
    "collapsed": false
   },
   "outputs": [],
   "source": []
  },
  {
   "cell_type": "code",
   "execution_count": null,
   "metadata": {
    "collapsed": true
   },
   "outputs": [],
   "source": []
  },
  {
   "cell_type": "code",
   "execution_count": null,
   "metadata": {
    "collapsed": true
   },
   "outputs": [],
   "source": []
  },
  {
   "cell_type": "code",
   "execution_count": null,
   "metadata": {
    "collapsed": false,
    "scrolled": false
   },
   "outputs": [],
   "source": [
    "dataMerge10.columns"
   ]
  },
  {
   "cell_type": "code",
   "execution_count": null,
   "metadata": {
    "collapsed": false,
    "scrolled": true
   },
   "outputs": [],
   "source": []
  },
  {
   "cell_type": "code",
   "execution_count": null,
   "metadata": {
    "collapsed": false
   },
   "outputs": [],
   "source": []
  },
  {
   "cell_type": "code",
   "execution_count": null,
   "metadata": {
    "collapsed": false,
    "scrolled": true
   },
   "outputs": [],
   "source": []
  },
  {
   "cell_type": "code",
   "execution_count": null,
   "metadata": {
    "collapsed": false
   },
   "outputs": [],
   "source": []
  },
  {
   "cell_type": "code",
   "execution_count": null,
   "metadata": {
    "collapsed": false
   },
   "outputs": [],
   "source": []
  },
  {
   "cell_type": "code",
   "execution_count": null,
   "metadata": {
    "collapsed": true
   },
   "outputs": [],
   "source": []
  },
  {
   "cell_type": "code",
   "execution_count": null,
   "metadata": {
    "collapsed": false
   },
   "outputs": [],
   "source": [
    "X_train.shape"
   ]
  },
  {
   "cell_type": "code",
   "execution_count": null,
   "metadata": {
    "collapsed": false
   },
   "outputs": [],
   "source": [
    "X_val.shape"
   ]
  },
  {
   "cell_type": "code",
   "execution_count": null,
   "metadata": {
    "collapsed": true
   },
   "outputs": [],
   "source": []
  },
  {
   "cell_type": "code",
   "execution_count": null,
   "metadata": {
    "collapsed": false
   },
   "outputs": [],
   "source": [
    "from lightgbm import LGBMRegressor\n",
    "lgb = LGBMRegressor()\n",
    "\n",
    "lgb.fit(X_train, y_train)\n",
    "predictionslgb = lgb.predict(X_val)\n",
    "from sklearn.metrics import mean_absolute_error\n",
    "mean_absolute_error(y_val, predictionslgb)\n",
    "#Mieux avec la semaine et l'olympiade"
   ]
  },
  {
   "cell_type": "code",
   "execution_count": null,
   "metadata": {
    "collapsed": false,
    "scrolled": false
   },
   "outputs": [],
   "source": [
    "import keras\n",
    "from keras.models import Sequential\n",
    "from keras.layers import Dense\n",
    "from keras.regularizers import l1, l2\n",
    "import tensorflow as tf\n",
    "from keras.layers import Dense, Dropout, BatchNormalization\n",
    "from keras.callbacks import EarlyStopping\n",
    "from keras import optimizers\n",
    "from keras import regularizers\n",
    "\n",
    "BATCH_SIZE = 256\n",
    "EPOCHS = 60\n",
    "LEARNING_RATE = 0.0001\n",
    "DATASET_SIZE = 7000000\n",
    "\n",
    "model = Sequential()\n",
    "model.add(Dense(256, activation='relu', input_dim=X_train.shape[1]))\n",
    "model.add(BatchNormalization())\n",
    "model.add(Dense(128, activation='relu'))\n",
    "model.add(BatchNormalization())\n",
    "model.add(Dense(64, activation='relu'))\n",
    "model.add(BatchNormalization())\n",
    "model.add(Dense(32, activation='relu'))\n",
    "model.add(BatchNormalization())\n",
    "model.add(Dense(16, activation='relu'))\n",
    "model.add(BatchNormalization())\n",
    "model.add(Dense(1))\n",
    "\n",
    "adam = optimizers.adam(lr=LEARNING_RATE)\n",
    "model.compile(loss='mse', optimizer=adam, metrics=['mae'])"
   ]
  },
  {
   "cell_type": "code",
   "execution_count": null,
   "metadata": {
    "collapsed": false,
    "scrolled": true
   },
   "outputs": [],
   "source": [
    "model.summary()\n",
    "\n",
    "hist = model.fit(X_train, y_train, validation_data = (X_val, y_val))\n"
   ]
  },
  {
   "cell_type": "code",
   "execution_count": null,
   "metadata": {
    "collapsed": false,
    "scrolled": true
   },
   "outputs": [],
   "source": []
  },
  {
   "cell_type": "code",
   "execution_count": null,
   "metadata": {
    "collapsed": false
   },
   "outputs": [],
   "source": [
    "import keras\n",
    "from keras.models import Sequential\n",
    "from keras.layers import Dense\n",
    "\n",
    "classifier = Sequential()\n",
    "\n",
    "# Adding the input layer and the first hidden layer\n",
    "classifier.add(Dense(output_dim = 6, init = 'uniform', activation = 'relu', input_dim = 231))\n",
    "# Adding the second hidden layer\n",
    "classifier.add(Dense(output_dim = 6, init = 'uniform', activation = 'relu'))\n",
    "# Adding the output layer\n",
    "classifier.add(Dense(output_dim = 1, init = 'uniform', activation = 'sigmoid'))\n",
    "\n",
    "# Compiling Neural Network\n",
    "classifier.compile(optimizer = 'adam', loss = 'mae', metrics = ['mae'])\n",
    "\n",
    "# Fitting our model \n",
    "classifier.fit(X_train, y_train, batch_size = 10, nb_epoch = 100)\n",
    "y_pred = classifier.predict(X_test)\n"
   ]
  },
  {
   "cell_type": "code",
   "execution_count": null,
   "metadata": {
    "collapsed": true
   },
   "outputs": [],
   "source": [
    "#test = test.reset_index()\n",
    "sub_df = pd.DataFrame()\n",
    "sub_df['ID'] = test['ID']\n",
    "sub_df[\"TARGET\"] = lgb.predict(X_test)\n",
    "sub_df.to_csv(\"randomForest140.csv\", index=False)"
   ]
  },
  {
   "cell_type": "markdown",
   "metadata": {
    "collapsed": false
   },
   "source": [
    " "
   ]
  },
  {
   "cell_type": "code",
   "execution_count": null,
   "metadata": {
    "collapsed": false
   },
   "outputs": [],
   "source": []
  },
  {
   "cell_type": "code",
   "execution_count": null,
   "metadata": {
    "collapsed": true
   },
   "outputs": [],
   "source": []
  },
  {
   "cell_type": "code",
   "execution_count": null,
   "metadata": {
    "collapsed": false
   },
   "outputs": [],
   "source": [
    "\n",
    "from sklearn.neural_network import MLPRegressor\n",
    "mlp = MLPRegressor((10, 1), early_stopping=False)\n",
    "\n",
    "mlp.fit(X_train_std, y_train)\n",
    "predictionsmlp = mlp.predict(X_val_std)\n",
    "from sklearn.metrics import mean_absolute_error\n",
    "mean_absolute_error(y_val, predictionsmlp)\n",
    "#Mieux avec la semaine et l'olympiade\n",
    "\n"
   ]
  },
  {
   "cell_type": "code",
   "execution_count": null,
   "metadata": {
    "collapsed": true
   },
   "outputs": [],
   "source": [
    "from sklearn.neighbors import KNeighborsClassifier\n",
    "\n",
    "knn = KNeighborsClassifier(n_neighbors=5)\n",
    "\n",
    "knn.fit(X_train, y_train)\n",
    "predictionsknn = knn.predict(X_val)\n",
    "from sklearn.metrics import mean_absolute_error\n",
    "mean_absolute_error(y_val, predictionsknn)\n",
    "#Mieux avec la semaine et l'olympiade\n",
    "\n"
   ]
  },
  {
   "cell_type": "code",
   "execution_count": null,
   "metadata": {
    "collapsed": true
   },
   "outputs": [],
   "source": [
    "from sklearn.svm import SVR\n",
    "svr = SVR()\n",
    "\n",
    "svr.fit(X_train, y_train)\n",
    "predictionssvr = svr.predict(X_val)\n",
    "from sklearn.metrics import mean_absolute_error\n",
    "mean_absolute_error(y_val, predictionssvr)\n",
    "#Mieux avec la semaine et l'olympiade                                                                                                                                                                                                                                                                                                                                             "
   ]
  },
  {
   "cell_type": "code",
   "execution_count": null,
   "metadata": {
    "collapsed": true
   },
   "outputs": [],
   "source": [
    "#test = test.reset_index()\n",
    "sub_df = pd.DataFrame()\n",
    "sub_df['ID'] = test['ID']\n",
    "sub_df[\"TARGET\"] = lgb.predict(X_test_std)\n",
    "sub_df.to_csv(\"randomForest135.csv\", index=False)"
   ]
  },
  {
   "cell_type": "code",
   "execution_count": null,
   "metadata": {
    "collapsed": false,
    "scrolled": true
   },
   "outputs": [],
   "source": []
  },
  {
   "cell_type": "code",
   "execution_count": null,
   "metadata": {
    "collapsed": false
   },
   "outputs": [],
   "source": []
  },
  {
   "cell_type": "code",
   "execution_count": null,
   "metadata": {
    "collapsed": false,
    "scrolled": true
   },
   "outputs": [],
   "source": [
    "from sklearn.feature_selection import RFECV\n",
    "\n",
    "\n",
    "\n",
    "rfecv = RFECV( estimator = lgb , step = 1 , scoring = 'neg_mean_absolute_error' )\n",
    "rfecv.fit( X_train , y_train )\n",
    "\n",
    "\n",
    "print (rfecv.score( X_train , y_train ) , rfecv.score( X_val , model.predict(X_val) ))\n",
    "print( \"Optimal number of features : %d\" % rfecv.n_features_ )\n",
    "predictions = model.predict(X_val)\n",
    "\n"
   ]
  },
  {
   "cell_type": "code",
   "execution_count": null,
   "metadata": {
    "collapsed": false
   },
   "outputs": [],
   "source": [
    "#test = test.reset_index()\n",
    "sub_df = pd.DataFrame()\n",
    "sub_df['ID'] = test['ID']\n",
    "sub_df[\"TARGET\"] = 0.637* lgb.predict(X_test) + (1-0.637)*ad.predict(X_test)\n",
    "sub_df.to_csv(\"randomForest125.csv\", index=False)"
   ]
  },
  {
   "cell_type": "code",
   "execution_count": null,
   "metadata": {
    "collapsed": false,
    "scrolled": false
   },
   "outputs": [],
   "source": [
    "feature_importances = pd.DataFrame(lgb.feature_importances_,\n",
    "                                   index = X_train.columns,\n",
    "                                    columns=['importance']).sort_values('importance',                                                               \n",
    "                                                                        ascending=False)\n",
    "print(feature_importances)"
   ]
  },
  {
   "cell_type": "code",
   "execution_count": null,
   "metadata": {
    "collapsed": false
   },
   "outputs": [],
   "source": [
    "plt.boxplot(X_train['Generator_speed'])\n",
    "plt.show()"
   ]
  },
  {
   "cell_type": "code",
   "execution_count": null,
   "metadata": {
    "collapsed": false,
    "scrolled": false
   },
   "outputs": [],
   "source": [
    "from sklearn.tree import DecisionTreeRegressor\n",
    "from sklearn.ensemble import AdaBoostRegressor\n",
    "ad = AdaBoostRegressor(DecisionTreeRegressor())\n",
    "\n",
    "ad.fit(X_train, y_train)\n",
    "predictionsAd = ad.predict(X_val)\n",
    "from sklearn.metrics import mean_absolute_error\n",
    "mean_absolute_error(y_val, predictionsAd)\n",
    "#Mieux avec la semaine et l'olympiade"
   ]
  },
  {
   "cell_type": "code",
   "execution_count": null,
   "metadata": {
    "collapsed": false,
    "scrolled": true
   },
   "outputs": [],
   "source": [
    "from xgboost import XGBRegressor\n",
    "xgb = XGBRegressor()\n",
    "\n",
    "xgb.fit(X_train, y_train)\n",
    "predictionsXgb = xgb.predict(X_val)\n",
    "from sklearn.metrics import mean_absolute_error\n",
    "mean_absolute_error(y_val, predictionsXgb)\n",
    "#Mieux avec la semaine et l'olympiade"
   ]
  },
  {
   "cell_type": "code",
   "execution_count": null,
   "metadata": {
    "collapsed": false
   },
   "outputs": [],
   "source": [
    "from sklearn.ensemble import RandomForestRegressor\n",
    "rf = RandomForestRegressor()\n",
    "\n",
    "rf.fit(X_train, y_train)\n",
    "predictionsRf = rf.predict(X_val)\n",
    "from sklearn.metrics import mean_absolute_error\n",
    "mean_absolute_error(y_val, predictionsRf)\n",
    "#Mieux avec la semaine et l'olympiade"
   ]
  },
  {
   "cell_type": "code",
   "execution_count": null,
   "metadata": {
    "collapsed": false
   },
   "outputs": [],
   "source": [
    "from sklearn.ensemble import ExtraTreesRegressor\n",
    "et = ExtraTreesRegressor()\n",
    "\n",
    "et.fit(X_train, y_train)\n",
    "predictionsEt = rf.predict(X_val)\n",
    "from sklearn.metrics import mean_absolute_error\n",
    "mean_absolute_error(y_val, predictionsEt)\n",
    "#Mieux avec la semaine et l'olympiade"
   ]
  },
  {
   "cell_type": "code",
   "execution_count": null,
   "metadata": {
    "collapsed": false
   },
   "outputs": [],
   "source": [
    "feature_importances = pd.DataFrame(xgb.feature_importances_,\n",
    "                                   index = X_train.columns,\n",
    "                                    columns=['importance']).sort_values('importance',                                                               \n",
    "                                                                        ascending=False)\n",
    "print(feature_importances)"
   ]
  },
  {
   "cell_type": "code",
   "execution_count": null,
   "metadata": {
    "collapsed": false
   },
   "outputs": [],
   "source": [
    "#test = test.reset_index()\n",
    "sub_df = pd.DataFrame()\n",
    "sub_df['ID'] = test['ID']\n",
    "sub_df[\"TARGET\"] = lgb.predict(X_test)\n",
    "sub_df.to_csv(\"randomForest120.csv\", index=False)"
   ]
  },
  {
   "cell_type": "code",
   "execution_count": null,
   "metadata": {
    "collapsed": true
   },
   "outputs": [],
   "source": []
  },
  {
   "cell_type": "code",
   "execution_count": null,
   "metadata": {
    "collapsed": false
   },
   "outputs": [],
   "source": []
  },
  {
   "cell_type": "code",
   "execution_count": null,
   "metadata": {
    "collapsed": false
   },
   "outputs": [],
   "source": [
    "feature_importances = pd.DataFrame(et.feature_importances_,\n",
    "                                   index = X_train.columns,\n",
    "                                    columns=['importance']).sort_values('importance',                                                                 ascending=False)"
   ]
  },
  {
   "cell_type": "code",
   "execution_count": null,
   "metadata": {
    "collapsed": false,
    "scrolled": true
   },
   "outputs": [],
   "source": [
    "feature_importances"
   ]
  },
  {
   "cell_type": "code",
   "execution_count": null,
   "metadata": {
    "collapsed": false
   },
   "outputs": [],
   "source": [
    "#CAL2250287"
   ]
  },
  {
   "cell_type": "code",
   "execution_count": null,
   "metadata": {
    "collapsed": false
   },
   "outputs": [],
   "source": []
  },
  {
   "cell_type": "code",
   "execution_count": null,
   "metadata": {
    "collapsed": false
   },
   "outputs": [],
   "source": [
    "#test = test.reset_index()\n",
    "sub_df = pd.DataFrame()\n",
    "sub_df['ID'] = test['ID']\n",
    "sub_df[\"TARGET\"] = et1.predict(X_test)\n",
    "sub_df.to_csv(\"randomForest77.csv\", index=False)"
   ]
  },
  {
   "cell_type": "code",
   "execution_count": null,
   "metadata": {
    "collapsed": false
   },
   "outputs": [],
   "source": [
    "\n",
    "'''from xgboost.sklearn import XGBRegressor\n",
    "\n",
    "xgb = XGBRegressor()\n",
    "xgb.fit(X_train, y_train)\n",
    "predictionsXg = xgb.predict(X_val)\n",
    "from sklearn.metrics import mean_absolute_error\n",
    "mean_absolute_error(y_val, predictionsXg)'''"
   ]
  },
  {
   "cell_type": "code",
   "execution_count": null,
   "metadata": {
    "collapsed": false
   },
   "outputs": [],
   "source": [
    "'''test = test.reset_index()\n",
    "sub_df = pd.DataFrame()\n",
    "sub_df['ID'] = test['ID']\n",
    "sub_df[\"TARGET\"] = rf.predict(X_test)\n",
    "sub_df.to_csv(\"Rf2508_eolienne_baseline_lgb.csv\", index=False)'''"
   ]
  },
  {
   "cell_type": "code",
   "execution_count": null,
   "metadata": {
    "collapsed": true
   },
   "outputs": [],
   "source": []
  }
 ],
 "metadata": {
  "kernelspec": {
   "display_name": "Python 3",
   "language": "python",
   "name": "python3"
  },
  "language_info": {
   "codemirror_mode": {
    "name": "ipython",
    "version": 3
   },
   "file_extension": ".py",
   "mimetype": "text/x-python",
   "name": "python",
   "nbconvert_exporter": "python",
   "pygments_lexer": "ipython3",
   "version": "3.6.6"
  }
 },
 "nbformat": 4,
 "nbformat_minor": 2
}
